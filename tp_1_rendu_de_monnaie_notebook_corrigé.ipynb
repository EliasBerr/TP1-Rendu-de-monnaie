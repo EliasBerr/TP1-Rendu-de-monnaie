{
 "cells": [
  {
   "cell_type": "markdown",
   "metadata": {},
   "source": [
    "<h1 style=\"text-align:center\" \"font-size:24pt\";> TP 1 : Rendu de monnaie </h1>"
   ]
  },
  {
   "cell_type": "markdown",
   "metadata": {},
   "source": [
    "## I. Enoncé du problème et résolution"
   ]
  },
  {
   "cell_type": "markdown",
   "metadata": {},
   "source": [
    "Imaginez que vous achetez un article coûtant 51€ et que vous payez avec un billet de 100€. Le caissier doit vous rendre 49€ en utilisant les pièces et billets qui existent en euros.\n",
    "Il existe beaucoup de façons possibles pour rendre 49€ :\n",
    "\tdeux billets de 20€, un billet de 5€, deux pièces de 2€ (au total 5 billets/pièces utilisés) ;\n",
    "\tdeux billets de 20€, un billet de 5€, quatre pièces de 1€ (au total 7 billets/pièces utilisés) ;\n",
    "\tquatre billets de 10€, un billet de 5€, quatre pièces de 1€ (au total, 9 billets/pièces utilisés) ;\n",
    "\tquarante-neuf pièces de 1€ !! (au total, 49 billets/pièces utilisés).\n",
    "etc…\n",
    "\n",
    "On rappelle que l’ensemble des pièces et billets existant en euros sont : 1,2,5,10,20,50,100,200 (on ne considèrera pas le billet de 500€ qui n’est de toute façon plus émis).\n",
    "On dira que la liste [1,2,5,10,20,50,100,200] est le système de monnaie de l’euro.\n",
    "\n",
    "On cherche ici à rendre la monnaie en utilisant le moins de pièces/billets possibles. Dans la suite, pour éviter d’utiliser deux termes pièces/billets, on appellera pièces aussi bien les véritables pièces que les billets.\n",
    "\n",
    "On cherche donc à rendre une somme en utilisant le moins de pièces possibles. Nous sommes face à un problème d’optimisation.\n"
   ]
  },
  {
   "cell_type": "markdown",
   "metadata": {},
   "source": [
    "<strong> I.1. Expliquer quelle est la quantité à minimiser/maximiser dans ce problème d’optimisation ? </strong>"
   ]
  },
  {
   "cell_type": "markdown",
   "metadata": {},
   "source": [
    "<p style=\"color:red\";> On cherche à minimiser le nombre de pièces ici. </p>"
   ]
  },
  {
   "cell_type": "markdown",
   "metadata": {},
   "source": [
    "<strong> I.2.Quelle est la contrainte ici sur la somme à rendre ? </strong>"
   ]
  },
  {
   "cell_type": "markdown",
   "metadata": {},
   "source": [
    "<p style=\"color:red\";> La contrainte est de devoir rendre la somme exacte. </p>"
   ]
  },
  {
   "cell_type": "markdown",
   "metadata": {},
   "source": [
    "<strong> I.3.\tQuelle est selon vous le choix optimal dans le cas où l’on doit rendre : </strong>"
   ]
  },
  {
   "cell_type": "markdown",
   "metadata": {},
   "source": [
    "a.\t49€ ?"
   ]
  },
  {
   "cell_type": "markdown",
   "metadata": {},
   "source": [
    "<p style=\"color:red\";> 2x 20€, 1x 5€, 2x2€,  total 5 pièces. </p>"
   ]
  },
  {
   "cell_type": "markdown",
   "metadata": {},
   "source": [
    "b. 115€ ?"
   ]
  },
  {
   "cell_type": "markdown",
   "metadata": {},
   "source": [
    "<p style=\"color:red\";> 1x100€, 1x10€, 1x5€,  total 3 pièces. </p>"
   ]
  },
  {
   "cell_type": "markdown",
   "metadata": {},
   "source": [
    "c. 413€ ?"
   ]
  },
  {
   "cell_type": "markdown",
   "metadata": {},
   "source": [
    "<p style=\"color:red\";> 2x200€, 1x10€, 1x2€, 1x1€,  total 5 pièces.</p>"
   ]
  },
  {
   "cell_type": "markdown",
   "metadata": {},
   "source": [
    "<strong> I.4.\tDécrire un algorithme glouton pour ce problème. Selon vous, est-ce que cet algorithme donne la solution optimale ? </strong>\n"
   ]
  },
  {
   "cell_type": "markdown",
   "metadata": {},
   "source": [
    "<div style=\"color:red\";> \n",
    "<p> Naturellement, on a tendance à utiliser un algorithme glouton pour ce problème.\n",
    "A chaque fois, on va partir de la pièce contenant la plus forte valeur (en se basant sur l’idée que plus on utilise des billets de forte valeur et plus la somme à rendre diminue donc le nombre de billets à rendre aussi). \n",
    "La règle de choix est donc : à chaque sélection, prendre la pièce de plus forte valeur tout en veillant à ne pas dépasser la somme à rendre (contrainte).\n",
    "Naturellement, on pense qu’il s’agit de la meilleure stratégie. On peut démontrer qu’effectivement, cet algorithme donne la solution optimale mais pas avec tous les systèmes de monnaie ! Avec le système de monnaie de l’euro, ça marche mais pour certains systèmes de monnaie, cette stratégie ne marche pas toujours (voir question suivante). </p>\n",
    "\n",
    "<p>\n",
    "On peut décrire un peu plus précisément cet algorithme comme ceci :\n",
    "On note S la somme à rendre et L  le système de monnaie (avec l’euro, on a : L= [1,2,5,10,20,50,100,200])\n",
    "Algorithme :\n",
    "On prend l’indice maximal i de la liste L (avec l’euro, c’est donc 7 et L[7] = 200)\n",
    "On compare S et L[i]. \n",
    "Si S>L[i], alors\n",
    "\tIl y aura une pièce de valeur L[i] dans l’ensemble des résultats\n",
    "\tOn continue avec la somme S – L[i] : S prend la valeur S – L[i]\n",
    "Sinon\n",
    "\tIl n’y a pas de pièce de valeur L[i] dans l’ensemble des résultats, on passe à l’indice précédent :\n",
    "\ti prend la valeur i-1\n",
    "On continue tant qu’il reste de l’argent à rendre (tant que S > 0).</p></div>"
   ]
  },
  {
   "cell_type": "markdown",
   "metadata": {},
   "source": [
    "**I.5 Appliquer cet algorithme glouton pour rendre la somme de 48€ avec le système de monnaie suivant (utilisé par le Royaume Uni avant 1971) : [1,3,6,12,24,30].\n",
    "La solution fournie par l’algorithme glouton est-elle optimale ici ?**"
   ]
  },
  {
   "cell_type": "markdown",
   "metadata": {},
   "source": [
    "<p style=\"color:red\";> Ici, l’algorithme glouton va donner : 1x30€, 1x12€, 1x6€, 3 pièces. Pourtant, on peut faire mieux en rendant 2x24€ donc seulement 2 pièces. </p>"
   ]
  },
  {
   "cell_type": "markdown",
   "metadata": {},
   "source": [
    "## II. Implémentation en Python"
   ]
  },
  {
   "cell_type": "markdown",
   "metadata": {},
   "source": [
    "**II.1\tOn souhaite implémenter l’algorithme glouton expliqué à la question I.4 en Python.\n",
    "Pour cela, on va écrire une fonction pieces_a_rendre(somme_a_rendre, systeme_monnaie) qui prend en paramètre un entier somme_a_rendre représentant la somme à rendre et qui retourne une liste contenant les pièces à rendre.\n",
    "Par exemple pieces_a_rendre(49, [1,2,5,10,20,50,100,200]) doit retourner [20,20,5,2,2] et pieces_a_rendre(48, [1,3,6,12,24,30]) doit retourner [30,12,6].**\n"
   ]
  },
  {
   "cell_type": "code",
   "execution_count": 3,
   "metadata": {},
   "outputs": [],
   "source": [
    "def pieces_a_rendre(somme_a_rendre, systeme_monnaie):\n",
    "    resultat = []\n",
    "    indice =  len(systeme_monnaie) - 1\n",
    "    while somme_a_rendre > 0:\n",
    "        valeur = systeme_monnaie[indice]\n",
    "        if somme_a_rendre >= valeur:\n",
    "            resultat.append(valeur)\n",
    "            somme_a_rendre = somme_a_rendre - valeur\n",
    "        else:\n",
    "            indice = indice - 1\n",
    "    return resultat\n",
    "\n",
    "\n",
    "assert(pieces_a_rendre(49, [1,2,5,10,20,50,100,200]) == [20,20,5,2,2])\n",
    "assert(pieces_a_rendre(48, [1,3,6,12,24,30]) == [30,12,6])"
   ]
  },
  {
   "cell_type": "markdown",
   "metadata": {},
   "source": [
    "Console Python à disposition en dessous pour faire des tests (ctrl entrée pour exécuter)"
   ]
  },
  {
   "cell_type": "code",
   "execution_count": 4,
   "metadata": {},
   "outputs": [
    {
     "data": {
      "text/plain": [
       "[20, 20, 5, 2, 2]"
      ]
     },
     "execution_count": 4,
     "metadata": {},
     "output_type": "execute_result"
    }
   ],
   "source": [
    "pieces_a_rendre(49, [1,2,5,10,20,50,100,200])"
   ]
  },
  {
   "cell_type": "markdown",
   "metadata": {},
   "source": [
    "Une version 2 qui prend en compte la multiplicité de chaque pièce (et donc effectue dans le pire des cas autant de tours de boucle que de pièces de monnaie). On renvoie un dictionaire contenant les occurrences de chaque pièce.\n"
   ]
  },
  {
   "cell_type": "code",
   "execution_count": 5,
   "metadata": {},
   "outputs": [],
   "source": [
    "def pieces_a_rendre_v2(somme_a_rendre, systeme_monnaie):\n",
    "    \"\"\" on retourne un dictionnaire \"\"\"\n",
    "    dictionnaire_resultat = dict()\n",
    "    indice =  len(systeme_monnaie) - 1\n",
    "    while somme_a_rendre > 0:\n",
    "        valeur = systeme_monnaie[indice]\n",
    "        multiplicite_valeur = somme_a_rendre // valeur\n",
    "        if multiplicite_valeur !=0:\n",
    "            dictionnaire_resultat[str(valeur)] = multiplicite_valeur\n",
    "        somme_a_rendre -= multiplicite_valeur * valeur\n",
    "        indice = indice - 1\n",
    "    return dictionnaire_resultat\n",
    "\n",
    "assert(pieces_a_rendre_v2(49, [1,2,5,10,20,50,100,200]) == {'20' : 2, '5': 1, '2': 2})\n",
    "assert(pieces_a_rendre_v2(48, [1,3,6,12,24,30]) == {'30' : 1, '12' : 1, '6' : 1})"
   ]
  },
  {
   "cell_type": "markdown",
   "metadata": {},
   "source": [
    "Console Python à disposition en dessous pour faire des tests (ctrl entrée pour exécuter)"
   ]
  },
  {
   "cell_type": "code",
   "execution_count": 6,
   "metadata": {},
   "outputs": [
    {
     "data": {
      "text/plain": [
       "{'20': 2, '5': 1, '2': 2}"
      ]
     },
     "execution_count": 6,
     "metadata": {},
     "output_type": "execute_result"
    }
   ],
   "source": [
    "pieces_a_rendre_v2(49, [1,2,5,10,20,50,100,200])"
   ]
  }
 ],
 "metadata": {
  "kernelspec": {
   "display_name": "Python 3",
   "language": "python",
   "name": "python3"
  },
  "language_info": {
   "codemirror_mode": {
    "name": "ipython",
    "version": 3
   },
   "file_extension": ".py",
   "mimetype": "text/x-python",
   "name": "python",
   "nbconvert_exporter": "python",
   "pygments_lexer": "ipython3",
   "version": "3.7.3"
  }
 },
 "nbformat": 4,
 "nbformat_minor": 2
}

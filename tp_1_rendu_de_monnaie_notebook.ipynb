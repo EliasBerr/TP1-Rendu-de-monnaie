{
 "cells": [
  {
   "cell_type": "markdown",
   "metadata": {},
   "source": [
    "<h1 style=\"text-align:center\" \"font-size:24pt\";> TP 1 : Rendu de monnaie </h1>"
   ]
  },
  {
   "cell_type": "markdown",
   "metadata": {},
   "source": [
    "## I. Enoncé du problème et résolution"
   ]
  },
  {
   "cell_type": "markdown",
   "metadata": {},
   "source": [
    "Imaginez que vous achetez un article coûtant 51€ et que vous payez avec un billet de 100€. Le caissier doit vous rendre 49€ en utilisant les pièces et billets qui existent en euros.\n",
    "Il existe beaucoup de façons possibles pour rendre 49€ :\n",
    "\tdeux billets de 20€, un billet de 5€, deux pièces de 2€ (au total 5 billets/pièces utilisés) ;\n",
    "\tdeux billets de 20€, un billet de 5€, quatre pièces de 1€ (au total 7 billets/pièces utilisés) ;\n",
    "\tquatre billets de 10€, un billet de 5€, quatre pièces de 1€ (au total, 9 billets/pièces utilisés) ;\n",
    "\tquarante-neuf pièces de 1€ !! (au total, 49 billets/pièces utilisés).\n",
    "etc…\n",
    "\n",
    "On rappelle que l’ensemble des pièces et billets existant en euros sont : 1,2,5,10,20,50,100,200 (on ne considèrera pas le billet de 500€ qui n’est de toute façon plus émis).\n",
    "On dira que la liste [1,2,5,10,20,50,100,200] est le système de monnaie de l’euro.\n",
    "\n",
    "On cherche ici à rendre la monnaie en utilisant le moins de pièces/billets possibles. Dans la suite, pour éviter d’utiliser deux termes pièces/billets, on appellera pièces aussi bien les véritables pièces que les billets.\n",
    "\n",
    "On cherche donc à rendre une somme en utilisant le moins de pièces possibles. Nous sommes face à un problème d’optimisation.\n"
   ]
  },
  {
   "cell_type": "markdown",
   "metadata": {},
   "source": [
    "<strong> I.1. Expliquer quelle est la quantité à minimiser/maximiser dans ce problème d’optimisation ? </strong>"
   ]
  },
  {
   "cell_type": "raw",
   "metadata": {},
   "source": []
  },
  {
   "cell_type": "markdown",
   "metadata": {},
   "source": [
    "<strong> I.2.Quelle est la contrainte ici sur la somme à rendre ? </strong>"
   ]
  },
  {
   "cell_type": "raw",
   "metadata": {},
   "source": []
  },
  {
   "cell_type": "markdown",
   "metadata": {},
   "source": [
    "<strong> I.3.\tQuelle est selon vous le choix optimal dans le cas où l’on doit rendre : </strong>"
   ]
  },
  {
   "cell_type": "markdown",
   "metadata": {},
   "source": [
    "a.\t49€ ?"
   ]
  },
  {
   "cell_type": "raw",
   "metadata": {},
   "source": []
  },
  {
   "cell_type": "markdown",
   "metadata": {},
   "source": [
    "b. 115€ ?"
   ]
  },
  {
   "cell_type": "raw",
   "metadata": {},
   "source": []
  },
  {
   "cell_type": "markdown",
   "metadata": {},
   "source": [
    "c. 413€ ?"
   ]
  },
  {
   "cell_type": "markdown",
   "metadata": {},
   "source": [
    "<strong> I.4.\tDécrire un algorithme glouton pour ce problème. Selon vous, est-ce que cet algorithme donne la solution optimale ? </strong>\n"
   ]
  },
  {
   "cell_type": "raw",
   "metadata": {},
   "source": []
  },
  {
   "cell_type": "markdown",
   "metadata": {},
   "source": [
    "**I.5 Appliquer cet algorithme glouton pour rendre la somme de 48€ avec le système de monnaie suivant (utilisé par le Royaume Uni avant 1971) : [1,3,6,12,24,30].\n",
    "La solution fournie par l’algorithme glouton est-elle optimale ici ?**"
   ]
  },
  {
   "cell_type": "raw",
   "metadata": {},
   "source": []
  },
  {
   "cell_type": "markdown",
   "metadata": {},
   "source": [
    "## II. Implémentation en Python"
   ]
  },
  {
   "cell_type": "markdown",
   "metadata": {},
   "source": [
    "**II.1\tOn souhaite implémenter l’algorithme glouton expliqué à la question I.4 en Python.\n",
    "Pour cela, on va écrire une fonction pieces_a_rendre(somme_a_rendre, systeme_monnaie) qui prend en paramètre un entier somme_a_rendre représentant la somme à rendre et qui retourne une liste contenant les pièces à rendre.\n",
    "Par exemple pieces_a_rendre(49, [1,2,5,10,20,50,100,200]) doit retourner [20,20,5,2,2] et pieces_a_rendre(48, [1,3,6,12,24,30]) doit retourner [30,12,6].**\n"
   ]
  },
  {
   "cell_type": "code",
   "execution_count": 3,
   "metadata": {},
   "outputs": [],
   "source": [
    "def pieces_a_rendre(somme_a_rendre, systeme_monnaie):\n",
    "    pass\n",
    "\n",
    "\n",
    "assert(pieces_a_rendre(49, [1,2,5,10,20,50,100,200]) == [20,20,5,2,2])\n",
    "assert(pieces_a_rendre(48, [1,3,6,12,24,30]) == [30,12,6])"
   ]
  }
 ],
 "metadata": {
  "kernelspec": {
   "display_name": "Python 3",
   "language": "python",
   "name": "python3"
  },
  "language_info": {
   "codemirror_mode": {
    "name": "ipython",
    "version": 3
   },
   "file_extension": ".py",
   "mimetype": "text/x-python",
   "name": "python",
   "nbconvert_exporter": "python",
   "pygments_lexer": "ipython3",
   "version": "3.7.3"
  }
 },
 "nbformat": 4,
 "nbformat_minor": 2
}
